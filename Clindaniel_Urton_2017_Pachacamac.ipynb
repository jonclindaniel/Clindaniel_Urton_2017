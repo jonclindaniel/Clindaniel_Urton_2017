{
 "cells": [
  {
   "cell_type": "markdown",
   "metadata": {},
   "source": [
    "# Supplementary Code for Clindaniel and Urton 2017\n",
   ]
  },
  {
   "cell_type": "code",
   "execution_count": 2,
   "metadata": {
    "collapsed": true
   },
   "outputs": [],
   "source": [
    "%matplotlib inline\n",
    "import numpy as np\n",
    "import pandas as pd\n",
    "from scipy import stats\n",
    "import seaborn as sns\n",
    "import matplotlib.pyplot as plt"
   ]
  },
  {
   "cell_type": "markdown",
   "metadata": {},
   "source": [
    "First, we wrangled the Harvard Khipu Database (KDB) query data into a form where each khipu is parsed at the khipu-level and cord-level in a Pandas dataframe (using the `wrangle_khipu_data` function below). We picked out those khipus that have a provenance of \"Pachacamac\" for this analysis. Then, we saved the resulting data to a .pkl file, so it would not be necessary to rewrangle the data every time we run the code."
   ]
  },
  {
   "cell_type": "code",
   "execution_count": 3,
   "metadata": {
    "collapsed": true
   },
   "outputs": [],
   "source": [
    "def wrangle_khipu_data(filename, save=False, wrangle_id=''):\n",
    "    '''\n",
    "    Description:\n",
    "        Wrangles Khipu Data from database-produced excel format into a\n",
    "        hierarchical Pandas dataframe, featuring Khipu ID as the first level\n",
    "        index and Cord ID as the second level index.  For each cord, Fiber,\n",
    "        Value, and Colors are recorded as separate columns.\n",
    "    Input:\n",
    "        filename (string)      : name of excel file to be imported (assumed to\n",
    "                                 be in current directory)\n",
    "        save (boolean)         : option to save dataframes to pkl for later\n",
    "                                 Pandas use (default: False)\n",
    "        wrangle_id (string)    : name to append to end of .pkl file name\n",
    "                                 (default: '')\n",
    "    Output:\n",
    "        Khipu Summary Dataframe: columns: khipu ID, total sum, Museum, and\n",
    "                                 Provenance\n",
    "        Khipu Cord Dataframe   : hierarchical dataframe with Khipu ID as first\n",
    "                                 level index and Cord ID as second level index.\n",
    "                                 For each cord, Fiber, Value, and Colors are\n",
    "                                 recorded as separate columns.\n",
    "    '''\n",
    "    import pandas as pd\n",
    "\n",
    "    # Import Excel file output from Khipu Database Explorer\n",
    "    all_data = pd.read_excel(filename)\n",
    "\n",
    "    # Separate rows dealing with khipu summaries and individual cords by their\n",
    "    # standard text formats:\n",
    "    khipu_summaries = all_data[~all_data.ID.str.contains(r'#')]\n",
    "    cords = all_data[all_data.ID.str.contains(r'#')]\n",
    "\n",
    "    # Prepare to make a dictionary entry for each set of khipu cords in the\n",
    "    # document for easy Pandas input:\n",
    "    khipu_cords = {}\n",
    "    previous = 0\n",
    "\n",
    "    # Each Khipu ID is a dictionary key and the associated cord data forms each\n",
    "    # dictionary value:\n",
    "    for i in khipu_summaries.index[1:]:\n",
    "        khipu_cords[str(khipu_summaries.ID[previous])] = cords[(cords.index > previous) &\n",
    "                                                               (cords.index < i)][[\"ID\", \"Fiber\", \"Value\",\"Colors\"]]\n",
    "        if i == khipu_summaries.index.max():\n",
    "            khipu_cords[str(khipu_summaries.ID[i])] = cords[(cords.index > i)][[\"ID\", \"Fiber\", \"Value\",\"Colors\"]]\n",
    "        previous = i\n",
    "\n",
    "    # Form a MultiIndex DataFrame using the khipu/cords information from the\n",
    "    # khipu_cords dictionary constructed above:\n",
    "    khipu_cords = pd.concat(khipu_cords)\n",
    "\n",
    "    # Set Cord and Khipu ID's as hierarchically related indices to facilitate\n",
    "    # easy grouping for analysis:\n",
    "    khipu_cords = khipu_cords.set_index(khipu_cords.ID, append=True)\n",
    "    khipu_cords = khipu_cords.reset_index(level=1, drop=True).drop(\"ID\", 1)\n",
    "    khipu_cords.index.levels[1].name = \"Cord\"\n",
    "    khipu_cords.index.levels[0].name = \"Khipu\"\n",
    "\n",
    "    # Set Khipu ID's as indices for the Khipu Summaries DataFrame for easy\n",
    "    # cross-referencing with Khipu Cords DataFrame\n",
    "    khipu_summaries = khipu_summaries.set_index(khipu_summaries.ID, append=True)\n",
    "    khipu_summaries = khipu_summaries.reset_index(level=0, drop=True).drop(\"ID\" ,1)\n",
    "\n",
    "    #Save DataFrames as .pkl files if input parameter save=True:\n",
    "    if save == True:\n",
    "        khipu_cords.to_pickle('khipu_cords%s.pkl' % wrangle_id)\n",
    "        khipu_summaries.to_pickle('khipu_summaries%s.pkl' % wrangle_id)\n",
    "\n",
    "    return khipu_summaries, khipu_cords"
   ]
  },
  {
   "cell_type": "code",
   "execution_count": 4,
   "metadata": {
    "collapsed": true
   },
   "outputs": [],
   "source": [
    "summaries, cords = wrangle_khipu_data('Data\\KhipuQuery_ALL_KHIPUS_12_32PM_Feb_14.xlsx')\n",
    "\n",
    "#Create Pachacamac khipu dataframes for first time (remove comments if haven't already completed this step):\n",
    "pachacamac_summaries = summaries.drop(summaries.index[summaries['Provenance'] != 'Pachacamac'], axis=0)\n",
    "pachacamac_cords = cords[cords.index.get_level_values('Khipu').isin(list(pachacamac_summaries.index))]\n",
    "\n",
    "#Make Dataframes easy to access by pickling them in 'Data' folder for later use:\n",
    "pachacamac_cords.to_pickle('Data\\khipu_cords_Pachacamac_1_10_2017.pkl')\n",
    "pachacamac_summaries.to_pickle('Data\\khipu_summaries_Pachacamac_1_10_2017.pkl')\n",
    "\n",
    "#Read already created Dataframes\n",
    "\n",
    "pachacamac_cords = pd.read_pickle('Data\\khipu_cords_Pachacamac_1_10_2017.pkl')\n",
    "pachacamac_summaries = pd.read_pickle('Data\\khipu_summaries_Pachacamac_1_10_2017.pkl')"
   ]
  },
  {
   "cell_type": "markdown",
   "metadata": {},
   "source": [
    "## Knot Direction Analysis\n",
    "\n",
    "Note below that, from the standard KDB explorer output, we do not have any information on what type of knot each corresponds with each knot direction:"
   ]
  },
  {
   "cell_type": "code",
   "execution_count": 5,
   "metadata": {
    "collapsed": false
   },
   "outputs": [
    {
     "data": {
      "text/html": [
       "<div>\n",
       "<table border=\"1\" class=\"dataframe\">\n",
       "  <thead>\n",
       "    <tr style=\"text-align: right;\">\n",
       "      <th></th>\n",
       "      <th></th>\n",
       "      <th>Fiber</th>\n",
       "      <th>Value</th>\n",
       "      <th>Colors</th>\n",
       "      <th>Knot Dir.</th>\n",
       "      <th>Twist</th>\n",
       "      <th>Begin/Attach</th>\n",
       "    </tr>\n",
       "    <tr>\n",
       "      <th>Khipu</th>\n",
       "      <th>Cord</th>\n",
       "      <th></th>\n",
       "      <th></th>\n",
       "      <th></th>\n",
       "      <th></th>\n",
       "      <th></th>\n",
       "      <th></th>\n",
       "    </tr>\n",
       "  </thead>\n",
       "  <tbody>\n",
       "    <tr>\n",
       "      <th rowspan=\"5\" valign=\"top\">AS075</th>\n",
       "      <th>#1-1</th>\n",
       "      <td>NaN</td>\n",
       "      <td>75</td>\n",
       "      <td>YB</td>\n",
       "      <td>U/U/U/U/U/U/U/U</td>\n",
       "      <td>S</td>\n",
       "      <td>R</td>\n",
       "    </tr>\n",
       "    <tr>\n",
       "      <th>#1-2</th>\n",
       "      <td>NaN</td>\n",
       "      <td>30</td>\n",
       "      <td>YB</td>\n",
       "      <td>U/U/U/U/U</td>\n",
       "      <td>S</td>\n",
       "      <td>R</td>\n",
       "    </tr>\n",
       "    <tr>\n",
       "      <th>#1-3</th>\n",
       "      <td>NaN</td>\n",
       "      <td>34</td>\n",
       "      <td>YB</td>\n",
       "      <td>U/U/U/U</td>\n",
       "      <td>S</td>\n",
       "      <td>R</td>\n",
       "    </tr>\n",
       "    <tr>\n",
       "      <th>#1-4</th>\n",
       "      <td>NaN</td>\n",
       "      <td>27</td>\n",
       "      <td>MB</td>\n",
       "      <td>U/U/U/U</td>\n",
       "      <td>S</td>\n",
       "      <td>R</td>\n",
       "    </tr>\n",
       "    <tr>\n",
       "      <th>#1-5</th>\n",
       "      <td>NaN</td>\n",
       "      <td>30</td>\n",
       "      <td>YB</td>\n",
       "      <td>U/U/U/U</td>\n",
       "      <td>S</td>\n",
       "      <td>R</td>\n",
       "    </tr>\n",
       "  </tbody>\n",
       "</table>\n",
       "</div>"
      ],
      "text/plain": [
       "           Fiber  Value Colors        Knot Dir. Twist Begin/Attach\n",
       "Khipu Cord                                                        \n",
       "AS075 #1-1   NaN     75     YB  U/U/U/U/U/U/U/U     S            R\n",
       "      #1-2   NaN     30     YB        U/U/U/U/U     S            R\n",
       "      #1-3   NaN     34     YB          U/U/U/U     S            R\n",
       "      #1-4   NaN     27     MB          U/U/U/U     S            R\n",
       "      #1-5   NaN     30     YB          U/U/U/U     S            R"
      ]
     },
     "execution_count": 5,
     "metadata": {},
     "output_type": "execute_result"
    }
   ],
   "source": [
    "pachacamac_cords.head()"
   ]
  },
  {
   "cell_type": "markdown",
   "metadata": {},
   "source": [
    "Thus, to begin to analyze knot direction, we must parse individual knot cluster data from the Khipu Database Manager, where this data is available on a khipu-by-khipu basis. We downloaded all the data associated with individual khipus from Pachacamac (as separate Excel files) added the number of S and Z knots for each knot type as data columns in the `pachacamac_cords` DataFrame with a function I wrote called `count_SZ`. With this information, we are able to look at the frequency with which Z and S knot directions were used for different knot types both within and between individual khipus (as well as drop cords from the analysis that did not include knot-direction data). Below, I look to see if there is any clear disparity between the two knot directions that would indicate a marked/unmarked relation between the two--with one knot direction favoring a certain knot type over another."
   ]
  },
  {
   "cell_type": "code",
   "execution_count": 6,
   "metadata": {
    "collapsed": true
   },
   "outputs": [],
   "source": [
    "def count_SZ(khipu_summaries):\n",
    "    ID, Single_S, Single_Z, Long_S, Long_Z, E_S, E_Z = [[] for _ in range(7)]\n",
    "    for i in pachacamac_summaries.index:\n",
    "        df = pd.read_excel('Data\\Individual_Pachacamac_Khipus\\Khipu_%s.xlsx' % i, parse_cols = range(5,14))\n",
    "        ID.append(i) \n",
    "        count_Single_S, count_Single_Z, count_Long_S, count_Long_Z, count_E_S, count_E_Z = [0 for _ in range(6)]\n",
    "        for i in df.iterrows():\n",
    "            if i[1].astype(str).str.contains('/S').any():\n",
    "                count_Long_S += len(i[1][i[1].astype(str).str.contains(r'(?=.*L)(?=.*/S)')])\n",
    "                count_E_S += len(i[1][i[1].astype(str).str.contains(r'(?=.*E)(?=.*/S)')])\n",
    "                count_Single_S += len(i[1][i[1].astype(str).str.contains(r'(?=.*S/)(?=.*/S)')])\n",
    "            if i[1].astype(str).str.contains('Z').any():\n",
    "                count_Long_Z += len(i[1][i[1].astype(str).str.contains(r'(?=.*L)(?=.*/Z)')])\n",
    "                count_E_Z += len(i[1][i[1].astype(str).str.contains(r'(?=.*E)(?=.*/Z)')])\n",
    "                count_Single_Z += len(i[1][i[1].astype(str).str.contains(r'(?=.*S/)(?=.*/Z)')]) \n",
    "\n",
    "        Single_S.append(count_Single_S), Single_Z.append(count_Single_Z)\n",
    "        Long_S.append(count_Long_S), Long_Z.append(count_Long_Z)\n",
    "        E_S.append(count_E_S), E_Z.append(count_E_Z)\n",
    "    return Single_S, Single_Z, Long_S, Long_Z, E_S, E_Z"
   ]
  },
  {
   "cell_type": "code",
   "execution_count": 7,
   "metadata": {
    "collapsed": true
   },
   "outputs": [],
   "source": [
    "Single_S, Single_Z, Long_S, Long_Z, E_S, E_Z = count_SZ(pachacamac_summaries)"
   ]
  },
  {
   "cell_type": "markdown",
   "metadata": {},
   "source": [
    "Note that the number Z-knots overall is 4-times higher than the number of S-knots:"
   ]
  },
  {
   "cell_type": "code",
   "execution_count": 8,
   "metadata": {
    "collapsed": false
   },
   "outputs": [
    {
     "name": "stdout",
     "output_type": "stream",
     "text": [
      "Total S-knots: 1705\n",
      "Total Z-knots: 4725\n"
     ]
    }
   ],
   "source": [
    "knot_direction_counts = pd.DataFrame([Single_S, Single_Z, Long_S, Long_Z, E_S, E_Z]).T\n",
    "knot_direction_counts.columns = ['Single_S', 'Single_Z', 'Long_S', 'Long_Z', 'E_S', 'E_Z']\n",
    "knot_direction_counts.index = pachacamac_summaries.index\n",
    "\n",
    "print \"Total S-knots:\", knot_direction_counts['Single_S'].sum()+knot_direction_counts['Long_S'].sum()+knot_direction_counts['E_S'].sum()\n",
    "print \"Total Z-knots:\", knot_direction_counts['Single_Z'].sum()+knot_direction_counts['Long_Z'].sum()+knot_direction_counts['E_Z'].sum()"
   ]
  },
  {
   "cell_type": "markdown",
   "metadata": {},
   "source": [
    "What's the probability of observing this number of Z-knots in comparison to S-knots overall if they are equally probable? Are there a statistically significant number of Z-knots? We perform a binomial test to see and plot the results to illustrate how far the actual results are away from a scenario where S- and Z-knots are used at an equal frequency."
   ]
  },
  {
   "cell_type": "code",
   "execution_count": 9,
   "metadata": {
    "collapsed": false
   },
   "outputs": [
    {
     "name": "stdout",
     "output_type": "stream",
     "text": [
      "Probability of larger Z-knot count: 5.92878775009e-323\n"
     ]
    }
   ],
   "source": [
    "print \"Probability of larger Z-knot count:\", stats.binom_test([4725, 1705], alternative='greater')"
   ]
  },
  {
   "cell_type": "code",
   "execution_count": 10,
   "metadata": {
    "collapsed": false
   },
   "outputs": [],
   "source": [
    "#Simulate 50/50 Binomial Distribution odds for expected number of Z-knots overall:\n",
    "simulated_binom_data = [sum(np.random.randint(0, 2, size=4725+1705)) for i in np.arange(1000)]"
   ]
  },
  {
   "cell_type": "code",
   "execution_count": 11,
   "metadata": {
    "collapsed": false
   },
   "outputs": [
    {
     "data": {
      "image/png": "iVBORw0KGgoAAAANSUhEUgAAAf0AAAFtCAYAAAANqrPLAAAABHNCSVQICAgIfAhkiAAAAAlwSFlz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\nPCMIk76AgICAgMAzwr8ABN1lAR6Dm3gAAAAASUVORK5CYII=\n",
      "text/plain": [
       "<matplotlib.figure.Figure at 0xa431cc0>"
      ]
     },
     "metadata": {},
     "output_type": "display_data"
    }
   ],
   "source": [
    "plt.hist(simulated_binom_data, label='Simulated')\n",
    "plt.title(\"Expected Overall Number of Z-knots in the Pachacamac Khipus\")\n",
    "plt.xlabel(\"Number of Z-knots (Simulated, assuming equal, 50% probability of S and Z-knots)\")\n",
    "plt.ylabel(\"Number of Simulations\")\n",
    "plt.axvline(x=4725, color = 'r', label='Actual')\n",
    "plt.xlim(3000,4800)\n",
    "plt.legend(loc='upper center')\n",
    "plt.show()"
   ]
  },
  {
   "cell_type": "markdown",
   "metadata": {},
   "source": [
    "But what about parsing knot direction by knot type? Do different knot types favor particular knot directions? Note that the vast majority of single knots are tied as Z-knots, while long and figure-eight knots are tied as both S- and Z-knots."
   ]
  },
  {
   "cell_type": "code",
   "execution_count": 12,
   "metadata": {
    "collapsed": false
   },
   "outputs": [
    {
     "name": "stdout",
     "output_type": "stream",
     "text": [
      "Total Single Knots: 3367\n",
      "Total Long/Figure-Eight Knots: 3063\n",
      "\n",
      "Z Long Knots: 1271\n",
      "S Long Knots  1189\n",
      "\n",
      "Z E Knots 368\n",
      "S E Knots 235\n",
      "\n",
      "Z Single Knots: 3086\n",
      "S Single Knots: 281\n",
      "Number of Khipus were Z/S Knots are recorded: 73\n"
     ]
    }
   ],
   "source": [
    "print \"Total Single Knots:\", knot_direction_counts['Single_S'].sum()+knot_direction_counts['Single_Z'].sum()\n",
    "print \"Total Long/Figure-Eight Knots:\", (knot_direction_counts['Long_S'].sum()+knot_direction_counts['Long_Z'].sum()+\n",
    "    knot_direction_counts['E_S'].sum()+knot_direction_counts['E_Z'].sum())\n",
    "print\n",
    "print \"Z Long Knots:\", knot_direction_counts['Long_Z'].sum()\n",
    "print \"S Long Knots \", knot_direction_counts['Long_S'].sum()\n",
    "print \n",
    "print \"Z E Knots\", knot_direction_counts['E_Z'].sum()\n",
    "print \"S E Knots\", knot_direction_counts['E_S'].sum()\n",
    "print\n",
    "print \"Z Single Knots:\", knot_direction_counts['Single_Z'].sum()\n",
    "print \"S Single Knots:\", knot_direction_counts['Single_S'].sum()\n",
    "print \"Number of Khipus were Z/S Knots are recorded:\", len(knot_direction_counts.loc[~(knot_direction_counts==0).all(axis=1)])\n"
   ]
  },
  {
   "cell_type": "code",
   "execution_count": 13,
   "metadata": {
    "collapsed": false
   },
   "outputs": [
    {
     "data": {
      "image/png": "iVBORw0KGgoAAAANSUhEUgAAAe0AAAFtCAYAAAAqBDIjAAAABHNCSVQICAgIfAhkiAAAAAlwSFlz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\nEP8f8rWF8dVmtwYAAAAASUVORK5CYII=\n",
      "text/plain": [
       "<matplotlib.figure.Figure at 0xa469208>"
      ]
     },
     "metadata": {},
     "output_type": "display_data"
    }
   ],
   "source": [
    "df = pd.melt(knot_direction_counts)\n",
    "df[\"Knot Direction\"] = df.variable.str[-1]\n",
    "df[\"Knot Type\"] = df.variable.str.replace('_S', '').str.replace('_Z', '')\n",
    "sns.barplot(x=\"Knot Type\", y=\"value\", hue=\"Knot Direction\", data=df)\n",
    "plt.ylabel('Mean Count per Khipu')\n",
    "plt.xticks([0,1,2],['Single','Long','Figure-Eight'])\n",
    "plt.title('Mean Knot Type Count per Khipu by Knot Direction')\n",
    "plt.show()"
   ]
  },
  {
   "cell_type": "markdown",
   "metadata": {},
   "source": [
    "To further examine the use of S and Z-knot types by knot-type, we first looked at the frequencies of each knot type occurring as a Z or S-knot, using the `count_SZ_alone` function:"
   ]
  },
  {
   "cell_type": "code",
   "execution_count": 14,
   "metadata": {
    "collapsed": true
   },
   "outputs": [],
   "source": [
    "def count_SZ_alone(khipu_summaries):\n",
    "    count_S_LE_Alone_l, count_Z_LE_Alone_l, count_S_Single_Alone_l, count_Z_Single_Alone_l = [[] for _ in range(4)]\n",
    "    Single_S, Single_Z, Long_S, Long_Z, E_S, E_Z = [[] for _ in range(6)]\n",
    "    for i in khipu_summaries.index:\n",
    "        df = pd.read_excel('Data\\Individual_Pachacamac_Khipus\\Khipu_%s.xlsx' % i, parse_cols = range(5,14)) \n",
    "        count_S_LE_Alone, count_Z_LE_Alone, count_S_Single_Alone, count_Z_Single_Alone= [0 for _ in range(4)]\n",
    "        for i in df.iterrows():\n",
    "            count_Single_S, count_Single_Z, count_Long_S, count_Long_Z, count_E_S, count_E_Z = [0 for _ in range(6)]\n",
    "            if i[1].astype(str).str.contains('/S').any():\n",
    "                count_Long_S += len(i[1][i[1].astype(str).str.contains(r'(?=.*L)(?=.*/S)')])\n",
    "                count_E_S += len(i[1][i[1].astype(str).str.contains(r'(?=.*E)(?=.*/S)')])\n",
    "                count_Single_S += len(i[1][i[1].astype(str).str.contains(r'(?=.*S/)(?=.*/S)')])\n",
    "            if i[1].astype(str).str.contains('Z').any():\n",
    "                count_Long_Z += len(i[1][i[1].astype(str).str.contains(r'(?=.*L)(?=.*/Z)')])\n",
    "                count_E_Z += len(i[1][i[1].astype(str).str.contains(r'(?=.*E)(?=.*/Z)')])\n",
    "                count_Single_Z += len(i[1][i[1].astype(str).str.contains(r'(?=.*S/)(?=.*/Z)')])\n",
    "            \n",
    "            #Count L/E knots that don't have single knots on the same cord as Z and S:\n",
    "            if (count_E_Z != 0 or count_Long_Z != 0) and (count_Single_S == 0 and count_Single_Z == 0):\n",
    "                count_Z_LE_Alone += 1\n",
    "            if (count_E_S != 0 or count_Long_S != 0) and (count_Single_S == 0 and count_Single_Z == 0):\n",
    "                count_S_LE_Alone += 1\n",
    "            \n",
    "            #Count Single knots that are alone (free of L/E knots below) as Z and S:\n",
    "            if (count_Long_Z == 0 and count_E_Z == 0) and (count_Single_S != 0):\n",
    "                count_S_Single_Alone += 1\n",
    "            if (count_Long_S == 0 and count_E_S == 0) and (count_Single_Z != 0):\n",
    "                count_Z_Single_Alone += 1\n",
    "                \n",
    "        count_S_LE_Alone_l.append(count_S_LE_Alone), count_Z_LE_Alone_l.append(count_Z_LE_Alone), \n",
    "        count_S_Single_Alone_l.append(count_S_Single_Alone), count_Z_Single_Alone_l.append(count_Z_Single_Alone)\n",
    "    return count_S_LE_Alone_l, count_Z_LE_Alone_l, count_S_Single_Alone_l, count_Z_Single_Alone_l"
   ]
  },
  {
   "cell_type": "code",
   "execution_count": 15,
   "metadata": {
    "collapsed": true
   },
   "outputs": [],
   "source": [
    "count_S_LE_Alone_l, count_Z_LE_Alone_l, count_S_Single_Alone_l, count_Z_Single_Alone_l = count_SZ_alone(pachacamac_summaries)"
   ]
  },
  {
   "cell_type": "markdown",
   "metadata": {},
   "source": [
    "When the knots are alone on a cord, we found that there are 641 S-tied Long/Figure-Eight knots versus 639 Z-tied Long/Figure-Eight knots (not a statistically significant difference according to the binomial test). There does not appear to be any consistent way that Long and Figure-Eight knots occur on their own. Again, we see that this large of a count of Z single knots is highly unlikely to occur by chance alone (1659 Z to 182 S-knots, p < 0.0001)."
   ]
  },
  {
   "cell_type": "code",
   "execution_count": 17,
   "metadata": {
    "collapsed": false
   },
   "outputs": [
    {
     "name": "stdout",
     "output_type": "stream",
     "text": [
      "S Long/Figure Eight Knots (alone): 641\n",
      "Z Long/Figure-Eight Knots (alone): 639\n",
      "Binomial Test p-value (two-sided): 0.977702803893\n",
      "\n",
      "S Single Knots (alone): 182\n",
      "Z Single Knots (alone): 1659\n",
      "Binomial Test p-value (one-sided): 1.79195152728e-298\n"
     ]
    }
   ],
   "source": [
    "df = pd.DataFrame([count_S_LE_Alone_l, count_Z_LE_Alone_l, count_S_Single_Alone_l, count_Z_Single_Alone_l]).T\n",
    "df.index=pachacamac_summaries.index\n",
    "\n",
    "print \"S Long/Figure Eight Knots (alone):\", sum(count_S_LE_Alone_l)\n",
    "print \"Z Long/Figure-Eight Knots (alone):\", sum(count_Z_LE_Alone_l)\n",
    "print \"Binomial Test p-value (two-sided):\", stats.binom_test([sum(count_S_LE_Alone_l),\n",
    "                                                              sum(count_Z_LE_Alone_l)],\n",
    "                                                             alternative='two-sided')\n",
    "print\n",
    "print \"S Single Knots (alone):\", sum(count_S_Single_Alone_l)\n",
    "print \"Z Single Knots (alone):\", sum(count_Z_Single_Alone_l)\n",
    "print \"Binomial Test p-value (one-sided):\", stats.binom_test([sum(count_Z_Single_Alone_l),\n",
    "                                                              sum(count_S_Single_Alone_l)],\n",
    "                                                             alternative='greater')"
   ]
  },
  {
   "cell_type": "markdown",
   "metadata": {},
   "source": [
    "Do the knot directions relate to one another in a consistent marked/unmarked fashion, however? Given the large observable difference between single knots and long/figure-eight knots in knot direction frequency, it seems that knot direction might have been used as a sign for marking higher hierarchical positions on a cord in relation to lower ones--following a markedness relationship. If this were the case, we might expect cords that have both single knots tied in a Z direction and long/figure-eight knots to have the long/figure-eight knot consistently be tied in an S-direction. Otherwise, if there is no markedness relationship, given how many long and figure eight Z-knots we observe, we might expect there to be an equal chance of observing S Long/Figure-eight knots paired with Z Single Knots, as Z Long/Figure-eight knots paried with S Single Knots. \n",
    "\n",
    "However, if the relationship between the two is consistently maintained as Z corresponding to unmarked and S to marked, as stated above, we might have evidence that Inka khipu knot direction worked in this marked/unmarked fashion. As we note in the discussion of the paper (Clindaniel and Urton 2017), we similarly expect there to be a large number of khipu cords that have both single and long/figure-eight knots tied in the Z-direction because marked categories tend to be absorbed by unmarked categories (we would not, however, expect there to be many khipu cords with all knot types tied in the S-direction). Let's adjust the `count_SZ` function a bit to see whether or not the evidence supports such a theory. We'll call the new function `count_sz_multi` to recognize that it's looking for relationships between multiple entries on a single cord and counting the number of times each relationship occurs."
   ]
  },
  {
   "cell_type": "code",
   "execution_count": 18,
   "metadata": {
    "collapsed": true
   },
   "outputs": [],
   "source": [
    "def count_SZ_multi(khipu_summaries):\n",
    "    Multi_S, Multi_Z, Multi_S_Single_S, Multi_S_Single_Z = [[] for _ in range(4)]\n",
    "    Single_S, Single_Z, Long_S, Long_Z, E_S, E_Z = [[] for _ in range(6)]\n",
    "    for i in khipu_summaries.index:\n",
    "        df = pd.read_excel('Data\\Individual_Pachacamac_Khipus\\Khipu_%s.xlsx' % i, parse_cols = range(5,14)) \n",
    "        count_S_Multi, count_Z_Multi, count_S_Multi_Single_S, count_S_Multi_Single_Z= [0 for _ in range(4)]\n",
    "        for i in df.iterrows():\n",
    "            count_Single_S, count_Single_Z, count_Long_S, count_Long_Z, count_E_S, count_E_Z = [0 for _ in range(6)]\n",
    "            if i[1].astype(str).str.contains('/S').any():\n",
    "                count_Long_S += len(i[1][i[1].astype(str).str.contains(r'(?=.*L)(?=.*/S)')])\n",
    "                count_E_S += len(i[1][i[1].astype(str).str.contains(r'(?=.*E)(?=.*/S)')])\n",
    "                count_Single_S += len(i[1][i[1].astype(str).str.contains(r'(?=.*S/)(?=.*/S)')])\n",
    "            if i[1].astype(str).str.contains('Z').any():\n",
    "                count_Long_Z += len(i[1][i[1].astype(str).str.contains(r'(?=.*L)(?=.*/Z)')])\n",
    "                count_E_Z += len(i[1][i[1].astype(str).str.contains(r'(?=.*E)(?=.*/Z)')])\n",
    "                count_Single_Z += len(i[1][i[1].astype(str).str.contains(r'(?=.*S/)(?=.*/Z)')])\n",
    "            \n",
    "            #Count number of cords where Long/Figure-eight Z-knots co-occur with Single S/Z-knots\n",
    "            if (count_Long_Z != 0 or count_E_Z != 0) and (count_Single_S != 0):\n",
    "                count_S_Multi += 1\n",
    "            if (count_Long_Z != 0 or count_E_Z != 0) and (count_Single_Z != 0):\n",
    "                count_Z_Multi += 1\n",
    "                \n",
    "            # Count number of cords where Long/Figure-eight S-knots co-occur with Single S/Z-knots\n",
    "            \n",
    "            if (count_Long_S != 0 or count_E_S != 0) and (count_Single_S != 0):\n",
    "                count_S_Multi_Single_S += 1\n",
    "            if (count_Long_S != 0 or count_E_S != 0) and (count_Single_Z != 0):\n",
    "                count_S_Multi_Single_Z += 1\n",
    "                \n",
    "        Multi_S.append(count_S_Multi), Multi_Z.append(count_Z_Multi), \n",
    "        Multi_S_Single_Z.append(count_S_Multi_Single_Z), Multi_S_Single_S.append(count_S_Multi_Single_S)\n",
    "    return Multi_S, Multi_Z, Multi_S_Single_Z, Multi_S_Single_S"
   ]
  },
  {
   "cell_type": "code",
   "execution_count": 19,
   "metadata": {
    "collapsed": true
   },
   "outputs": [],
   "source": [
    "Multi_S, Multi_Z, Multi_S_Single_Z, Multi_S_Single_S = count_SZ_multi(pachacamac_summaries)"
   ]
  },
  {
   "cell_type": "markdown",
   "metadata": {
    "collapsed": true
   },
   "source": [
    "Note below that there are a statistically significant number of Long or Figure-Eight knots are tied in the S-direction when Single knots are tied in the Z-direction. Similarly, there are a statistically significant number of Long/Figure-eight knots tied in the Z-direction when Single knots are tied in the Z-direction. Both of these findings are consistent with the theory of markedness we proposed above."
   ]
  },
  {
   "cell_type": "code",
   "execution_count": 22,
   "metadata": {
    "collapsed": false
   },
   "outputs": [
    {
     "name": "stdout",
     "output_type": "stream",
     "text": [
      "Long/Figure-Eight Z, Single S: 13 , Long/Figure-Eight S, Single Z: 565\n",
      "Binomial Test p-value (one-sided): 1.16541952191e-148\n",
      "\n",
      "Long/Figure-Eight S, Single S: 165 , Long/Figure-Eight Z, Single Z: 910\n",
      "Binomial Test p-value (one-sided): 1.44241563848e-125\n"
     ]
    }
   ],
   "source": [
    "print \"Long/Figure-Eight Z, Single S:\", sum(Multi_S), \", Long/Figure-Eight S, Single Z:\", sum(Multi_S_Single_Z)\n",
    "print \"Binomial Test p-value (one-sided):\", stats.binom_test([sum(Multi_S_Single_Z), sum(Multi_S)], alternative='greater')\n",
    "print\n",
    "print \"Long/Figure-Eight S, Single S:\", sum(Multi_S_Single_S), \", Long/Figure-Eight Z, Single Z:\", sum(Multi_Z)\n",
    "print \"Binomial Test p-value (one-sided):\", stats.binom_test([sum(Multi_Z), sum(Multi_S_Single_S)], alternative='greater')"
   ]
  },
  {
   "cell_type": "markdown",
   "metadata": {},
   "source": [
    "Then, finally, we counted the number of times single knots co-occurred in both the S and Z-directions on the same cord (to see if there was any potential markedness behavior occurring within the single-knot knot type itself). There were only 5 total instances were this occurred (out of almost 6000 analyzed cords), so we argued that the markedness relationship was primarily signified between the Single and Long/Figure-eight knot types and not within the Single-knot knot type itself."
   ]
  },
  {
   "cell_type": "code",
   "execution_count": 23,
   "metadata": {
    "collapsed": true
   },
   "outputs": [],
   "source": [
    "def count_Single_SZ_multi(khipu_summaries):\n",
    "    Multi_SZ = []\n",
    "    Single_S, Single_Z, Long_S, Long_Z, E_S, E_Z = [[] for _ in range(6)]\n",
    "    total_count = 0\n",
    "    for i in khipu_summaries.index:\n",
    "        df = pd.read_excel('Data\\Individual_Pachacamac_Khipus\\Khipu_%s.xlsx' % i, parse_cols = range(5,14)) \n",
    "        count_SZ_Multi = 0\n",
    "        for i in df.iterrows():\n",
    "            count_Single_S, count_Single_Z, count_Long_S, count_Long_Z, count_E_S, count_E_Z = [0 for _ in range(6)]\n",
    "            if i[1].astype(str).str.contains('/S').any():\n",
    "                count_Long_S += len(i[1][i[1].astype(str).str.contains(r'(?=.*L)(?=.*/S)')])\n",
    "                count_E_S += len(i[1][i[1].astype(str).str.contains(r'(?=.*E)(?=.*/S)')])\n",
    "                count_Single_S += len(i[1][i[1].astype(str).str.contains(r'(?=.*S/)(?=.*/S)')])\n",
    "            if i[1].astype(str).str.contains('Z').any():\n",
    "                count_Long_Z += len(i[1][i[1].astype(str).str.contains(r'(?=.*L)(?=.*/Z)')])\n",
    "                count_E_Z += len(i[1][i[1].astype(str).str.contains(r'(?=.*E)(?=.*/Z)')])\n",
    "                count_Single_Z += len(i[1][i[1].astype(str).str.contains(r'(?=.*S/)(?=.*/Z)')])\n",
    "            \n",
    "            if (count_Single_Z != 0) and (count_Single_S != 0):\n",
    "                count_SZ_Multi += 1\n",
    "            total_count += 1\n",
    "        Multi_SZ.append(count_SZ_Multi)\n",
    "        \n",
    "    return Multi_SZ, total_count"
   ]
  },
  {
   "cell_type": "code",
   "execution_count": 24,
   "metadata": {
    "collapsed": false
   },
   "outputs": [],
   "source": [
    "Multi_SZ, total_count = count_Single_SZ_multi(pachacamac_summaries)"
   ]
  },
  {
   "cell_type": "code",
   "execution_count": 25,
   "metadata": {
    "collapsed": false
   },
   "outputs": [
    {
     "name": "stdout",
     "output_type": "stream",
     "text": [
      "Number of times single knots co-occur in both S and Z directions: 5\n",
      "Number of total analyzed cords in the Pachacamac Khipus: 5971\n"
     ]
    }
   ],
   "source": [
    "print \"Number of times single knots co-occur in both S and Z directions:\", sum(Multi_SZ)\n",
    "print \"Number of total analyzed cords in the Pachacamac Khipus:\", total_count"
   ]
  }
 ],
 "metadata": {
  "kernelspec": {
   "display_name": "Python 2",
   "language": "python",
   "name": "python2"
  },
  "language_info": {
   "codemirror_mode": {
    "name": "ipython",
    "version": 2
   },
   "file_extension": ".py",
   "mimetype": "text/x-python",
   "name": "python",
   "nbconvert_exporter": "python",
   "pygments_lexer": "ipython2",
   "version": "2.7.11"
  }
 },
 "nbformat": 4,
 "nbformat_minor": 0
}
